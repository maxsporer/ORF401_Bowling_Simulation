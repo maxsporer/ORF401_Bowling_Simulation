{
 "cells": [
  {
   "cell_type": "markdown",
   "id": "included-swift",
   "metadata": {},
   "source": [
    "## ORF401: Bowling Simulation\n",
    "Instructor: Professor Kornhauser <br>\n",
    "Due date: 3/09/21, Tuesday by 23:59 <br>\n",
    "Student: Maximilian Sporer <br>\n",
    "NetID: msporer <br>"
   ]
  },
  {
   "cell_type": "code",
   "execution_count": 690,
   "id": "characteristic-unemployment",
   "metadata": {},
   "outputs": [],
   "source": [
    "import numpy as np\n",
    "import matplotlib.pyplot as plt\n",
    "import statistics as stats\n",
    "import pandas as pd\n",
    "import cvxpy as cp\n",
    "from collections import Counter\n",
    "pd.set_option(\"display.max_columns\",None)"
   ]
  },
  {
   "cell_type": "markdown",
   "id": "wound-interval",
   "metadata": {},
   "source": [
    "### Uniform\n",
    "As an initial attempt, let's use the Uniform distribution.<br><br>\n",
    "$\n",
    "\\begin{align}\n",
    "\\quad \\quad \\text{Let } & R_{i,j} \\text{ be pins knocked downed in frame $i$ by roll $j$} \\\\\n",
    "&i \\in \\{1,\\ldots,10\\} \\text{ indexes into n}\\\\\n",
    "&j \\in \\begin{cases} \\{1,2\\} & \\text{if $i \\neq 10$} \\\\ \\{1,2,3\\} & \\text{if $i = 10$} \\\\ \\end{cases} \\text{ indexes into m} \\\\ \\space \\\\\n",
    "\\text{Let } & R_{i,j} \\in \\{0,1,\\ldots,10\\} \\\\\n",
    "& R_{i,j} \\sim U[0,10] \\quad \\forall i,j \\\\ \\space \\\\\n",
    "\\end{align}\n",
    "$"
   ]
  },
  {
   "cell_type": "markdown",
   "id": "protecting-business",
   "metadata": {},
   "source": [
    "#### Bowling Simulation"
   ]
  },
  {
   "cell_type": "code",
   "execution_count": 861,
   "id": "difficult-europe",
   "metadata": {},
   "outputs": [
    {
     "data": {
      "text/plain": [
       "(array([[10,  0,  0],\n",
       "        [ 4,  0,  0],\n",
       "        [ 1,  2,  0],\n",
       "        [10,  0,  0],\n",
       "        [ 6,  4,  0],\n",
       "        [ 0,  5,  0],\n",
       "        [ 3,  5,  0],\n",
       "        [ 5,  4,  0],\n",
       "        [ 2,  2,  0],\n",
       "        [ 2,  4,  0]]),\n",
       " array([10,  4,  3, 10, 10,  5,  8,  9,  4,  6]))"
      ]
     },
     "execution_count": 861,
     "metadata": {},
     "output_type": "execute_result"
    }
   ],
   "source": [
    "sim_bowling_uniform()"
   ]
  },
  {
   "cell_type": "code",
   "execution_count": 700,
   "id": "familiar-concentrate",
   "metadata": {},
   "outputs": [],
   "source": [
    "# instantiate rolls and score arrays for storage\n",
    "def sim_bowling_uniform():\n",
    "    rolls = np.array([[-1]*3]*10)\n",
    "\n",
    "    n = rolls.shape[0]\n",
    "    m = rolls.shape[1]\n",
    "    score = np.array([-1]*10)\n",
    "\n",
    "    ############# first frame #############\n",
    "    # 1st bowl\n",
    "    rolls[0][0] = np.random.randint(0,11)\n",
    "\n",
    "    # 2nd bowl\n",
    "    if (rolls[0][0] == 10): # strike\n",
    "        rolls[0][1] = 0\n",
    "    else:\n",
    "        rolls[0][1] = np.random.randint(0,11-rolls[0][0])\n",
    "\n",
    "    # 3rd bowl\n",
    "    rolls[0][2] = 0\n",
    "\n",
    "    # scoring\n",
    "    score[0] = np.sum(rolls[0])\n",
    "    ############# first frame #############\n",
    "\n",
    "    ############# for frames 2-9 ##########\n",
    "    for i in range(1,n-1): \n",
    "        # 1st bowl\n",
    "        rolls[i][0] = np.random.randint(0,11)\n",
    "\n",
    "        # 2nd bowl\n",
    "        if (rolls[i][0] == 10): # strike\n",
    "            rolls[i][1] = 0\n",
    "\n",
    "        else:\n",
    "            rolls[i][1] = np.random.randint(0,11-rolls[i][0])\n",
    "\n",
    "        # 3rd bowl\n",
    "        rolls[i][2] = 0\n",
    "\n",
    "        # scoring\n",
    "        score[i] = np.sum(rolls[i])\n",
    "\n",
    "    ############# for frames 2-9 ##########\n",
    "\n",
    "    ############## last frame #############\n",
    "    # 1st bowl\n",
    "    rolls[9][0] = np.random.randint(0,11)\n",
    "\n",
    "    # 2nd bowl\n",
    "    # 1st bowl was strike so reset rack\n",
    "    if (rolls[9][0] == 10): \n",
    "        rolls[9][1] = np.random.randint(0,11)\n",
    "        # 2nd bowl was a strike so reset rack\n",
    "        if (rolls[9][1] == 10): \n",
    "            rolls[9][2] = np.random.randint(0,11)\n",
    "        else:\n",
    "            rolls[9][2] = np.random.randint(0,11-rolls[9][1])\n",
    "    else:\n",
    "        rolls[9][1] = np.random.randint(0,11-rolls[9][0])\n",
    "        if (np.sum(rolls[9][:2])==10):\n",
    "            rolls[9][2] = np.random.randint(0,11)\n",
    "\n",
    "    if not (np.sum(rolls[9][:2]) >= 10):\n",
    "        rolls[9][2] = 0\n",
    "\n",
    "    score[9] = np.sum(rolls[9])\n",
    "    \n",
    "    return rolls,score"
   ]
  },
  {
   "cell_type": "code",
   "execution_count": 701,
   "id": "desperate-damage",
   "metadata": {},
   "outputs": [],
   "source": [
    "def compound_score(rolls,score):\n",
    "    for i in range(1,9):\n",
    "        # last bowl was a spare\n",
    "        if (np.sum(rolls[i-1]) == 10 and rolls[i-1][0] != 10):\n",
    "            score[i-1] += rolls[i][0]\n",
    "        # last bowl was a strike\n",
    "        if (rolls[i-1][0] == 10):\n",
    "            score[i-1] += rolls[i][0]\n",
    "            if (rolls[i][0] == 10):\n",
    "                score[i-1] += rolls[i+1][0]\n",
    "            else:\n",
    "                score[i-1] += rolls[i][1]\n",
    "\n",
    "    # last frame\n",
    "    # last bowl was a spare\n",
    "    if (np.sum(rolls[8]) == 10 and rolls[8][0] != 10):\n",
    "        score[8] += rolls[9][0]\n",
    "    # last bowl was a strike\n",
    "    if (rolls[8][0] == 10):\n",
    "        score[8] += rolls[9][0] + rolls[9][1]\n",
    "\n",
    "    return score"
   ]
  },
  {
   "cell_type": "code",
   "execution_count": 704,
   "id": "directed-milwaukee",
   "metadata": {},
   "outputs": [
    {
     "data": {
      "image/png": "[encoded data removed]",
      "text/plain": [
       "<Figure size 432x288 with 1 Axes>"
      ]
     },
     "metadata": {
      "needs_background": "light"
     },
     "output_type": "display_data"
    },
    {
     "name": "stdout",
     "output_type": "stream",
     "text": [
      "max:  182\n",
      "min:  39\n",
      "mean: 91\n",
      "mode: 86\n"
     ]
    }
   ],
   "source": [
    "n_sim = 10000\n",
    "scores = []\n",
    "for i in range(n_sim):\n",
    "    ret = sim_bowling_uniform()\n",
    "    score = np.sum(compound_score(ret[0],ret[1]))\n",
    "    scores.append(score)\n",
    "plt.hist(scores,bins='auto')\n",
    "plt.title(\"Uniform Rolls Bowling Scores\")\n",
    "plt.show()\n",
    "print(\"max: \",max(scores))\n",
    "print(\"min: \",min(scores))\n",
    "print(\"mean:\",stats.mean(scores))\n",
    "print(\"mode:\",stats.mode(scores))"
   ]
  },
  {
   "cell_type": "markdown",
   "id": "complex-cleaning",
   "metadata": {},
   "source": [
    "### Normal\n",
    "Now lets try the using the normal distribution. Set $\\sigma$ so that 95% of bowls are between 0 10. Round up and down if less than 0 or greater than 10, respectively.<br><br>\n",
    "$\n",
    "\\begin{align}\n",
    "\\quad \\quad \\text{Let } R_{i,j} \\sim \\mathcal{N}(5,10) \\quad \\forall i,j \\\\ \\space \\\\\n",
    "\\end{align}\n",
    "$"
   ]
  },
  {
   "cell_type": "code",
   "execution_count": 705,
   "id": "western-kernel",
   "metadata": {},
   "outputs": [],
   "source": [
    "def knockdown_normal(maxpins=10):\n",
    "    m = maxpins/2\n",
    "    s = (maxpins-m)/3\n",
    "    roll = np.round(np.random.normal(m,s))\n",
    "    if roll < 0:\n",
    "        roll = 0\n",
    "    if roll > maxpins:\n",
    "        roll = maxpins\n",
    "    return roll"
   ]
  },
  {
   "cell_type": "code",
   "execution_count": 706,
   "id": "ignored-fisher",
   "metadata": {},
   "outputs": [],
   "source": [
    "def sim_bowling_normal():\n",
    "    rolls = np.array([[-1]*3]*10)\n",
    "\n",
    "    n = rolls.shape[0]\n",
    "    m = rolls.shape[1]\n",
    "    score = np.array([-1]*10)\n",
    "\n",
    "    ############# first frame #############\n",
    "    # 1st bowl\n",
    "    rolls[0][0] = knockdown_normal()\n",
    "\n",
    "    # 2nd bowl\n",
    "    if (rolls[0][0] == 10): # strike\n",
    "        rolls[0][1] = 0\n",
    "    else:\n",
    "        rolls[0][1] = knockdown_normal(10-rolls[0][0])\n",
    "\n",
    "    # 3rd bowl\n",
    "    rolls[0][2] = 0\n",
    "\n",
    "    # scoring\n",
    "    score[0] = np.sum(rolls[0])\n",
    "    ############# first frame #############\n",
    "\n",
    "    ############# for frames 2-9 ##########\n",
    "    for i in range(1,n-1): \n",
    "        # 1st bowl\n",
    "        rolls[i][0] = knockdown_normal()\n",
    "\n",
    "        # 2nd bowl\n",
    "        if (rolls[i][0] == 10): # strike\n",
    "            rolls[i][1] = 0\n",
    "\n",
    "        else:\n",
    "            rolls[i][1] = knockdown_normal(10-rolls[i][0])\n",
    "\n",
    "        # 3rd bowl\n",
    "        rolls[i][2] = 0\n",
    "\n",
    "        # scoring\n",
    "        score[i] = np.sum(rolls[i])\n",
    "\n",
    "    ############# for frames 2-9 ##########\n",
    "\n",
    "    ############## last frame #############\n",
    "    # 1st bowl\n",
    "    rolls[9][0] = knockdown_normal()\n",
    "\n",
    "    # 2nd bowl\n",
    "    # 1st bowl was strike so reset rack\n",
    "    if (rolls[9][0] == 10): \n",
    "        rolls[9][1] = knockdown_normal()\n",
    "        # 2nd bowl was a strike so reset rack\n",
    "        if (rolls[9][1] == 10): \n",
    "            rolls[9][2] = knockdown_normal()\n",
    "        else:\n",
    "            rolls[9][2] = knockdown_normal(10-rolls[9][1])\n",
    "    else:\n",
    "        rolls[9][1] = knockdown_normal(10-rolls[9][0])\n",
    "        if (np.sum(rolls[9][:2])==10):\n",
    "            rolls[9][2] = knockdown_normal()\n",
    "\n",
    "    if not (np.sum(rolls[9][:2]) >= 10):\n",
    "        rolls[9][2] = 0\n",
    "\n",
    "    score[9] = np.sum(rolls[9])\n",
    "    \n",
    "    ############## last frame #############\n",
    "    \n",
    "    return rolls,score"
   ]
  },
  {
   "cell_type": "code",
   "execution_count": 707,
   "id": "committed-comparison",
   "metadata": {},
   "outputs": [
    {
     "data": {
      "image/png": "[encoded data removed]",
      "text/plain": [
       "<Figure size 432x288 with 1 Axes>"
      ]
     },
     "metadata": {
      "needs_background": "light"
     },
     "output_type": "display_data"
    },
    {
     "name": "stdout",
     "output_type": "stream",
     "text": [
      "max:  106\n",
      "min:  60\n",
      "mean: 76\n",
      "mode: 76\n"
     ]
    }
   ],
   "source": [
    "n_sim = 10000\n",
    "scores = []\n",
    "for i in range(n_sim):\n",
    "    ret = sim_bowling_normal()\n",
    "    score = np.sum(compound_score(ret[0],ret[1]))\n",
    "    scores.append(score)\n",
    "plt.hist(scores,bins='auto')\n",
    "plt.title(\"Normal Rolls Bowling Scores\")\n",
    "plt.show()\n",
    "print(\"max: \",max(scores))\n",
    "print(\"min: \",min(scores))\n",
    "print(\"mean:\",stats.mean(scores))\n",
    "print(\"mode:\",stats.mode(scores))"
   ]
  },
  {
   "cell_type": "markdown",
   "id": "piano-technique",
   "metadata": {},
   "source": [
    "### Professional Bowling Data\n",
    "I emailed the author of this article and asked him for the data. It includes 447,000 professional bowling games scraped from PBA.com.<br>\n",
    "http://www.slate.com/articles/sports/sports_nut/2015/02/hardest_shot_in_bowling_it_s_not_the_7_10_split_it_s_the_greek_church.html"
   ]
  },
  {
   "cell_type": "markdown",
   "id": "pleased-calculator",
   "metadata": {},
   "source": [
    "#### Cleaning"
   ]
  },
  {
   "cell_type": "code",
   "execution_count": 708,
   "id": "public-helena",
   "metadata": {},
   "outputs": [],
   "source": [
    "df = pd.read_csv('bowling.csv',header=None)"
   ]
  },
  {
   "cell_type": "code",
   "execution_count": 255,
   "id": "engaged-actor",
   "metadata": {},
   "outputs": [],
   "source": [
    "bad_games = []\n",
    "for i in range(df.shape[0]):\n",
    "    if list(df.iloc[i][1:].unique()) == [\" ''\"]:\n",
    "        bad_games.append(i)"
   ]
  },
  {
   "cell_type": "code",
   "execution_count": 304,
   "id": "tutorial-senior",
   "metadata": {},
   "outputs": [],
   "source": [
    "df2 = df.drop(bad_games)\n",
    "df2 = df2.reset_index(drop=True)\n",
    "df2.to_csv('data_fixed.csv')"
   ]
  },
  {
   "cell_type": "code",
   "execution_count": 463,
   "id": "pretty-ethernet",
   "metadata": {},
   "outputs": [],
   "source": [
    "#empty = []\n",
    "bad = []\n",
    "for i in range(df2.shape[0]):\n",
    "    codes = df2.iloc[i][1:].value_counts().index\n",
    "    if \" ''\" in codes:\n",
    "        count = df2.iloc[i][1:].value_counts()[\" ''\"]\n",
    "        if (count >= 10):\n",
    "            bad.append(i)\n",
    "        #empty.append(df2.iloc[i][1:].value_counts()[\" ''\"])"
   ]
  },
  {
   "cell_type": "code",
   "execution_count": 467,
   "id": "played-bottom",
   "metadata": {},
   "outputs": [],
   "source": [
    "# Counter(empty)\n",
    "df3 = df2.drop(bad)\n",
    "df3 = df3.reset_index(drop=True)\n",
    "df3.to_csv('data_fixed2.csv')"
   ]
  },
  {
   "cell_type": "code",
   "execution_count": 709,
   "id": "statutory-toddler",
   "metadata": {},
   "outputs": [
    {
     "data": {
      "text/plain": [
       "42325"
      ]
     },
     "execution_count": 709,
     "metadata": {},
     "output_type": "execute_result"
    }
   ],
   "source": [
    "df3.shape[0]"
   ]
  },
  {
   "cell_type": "markdown",
   "id": "communist-theater",
   "metadata": {},
   "source": [
    "After cleaning the data, only 42,325 games are usable."
   ]
  },
  {
   "cell_type": "markdown",
   "id": "palestinian-commissioner",
   "metadata": {},
   "source": [
    "#### Spare Success Machine\n",
    "The author of the previously linked article (Ben Blatt) created a \"Spare Success Machine\" which shows the percentage in which certain configurations were converted to spares. This is a bit of a detour but in order to decode the data and ensure it was similar I checked some of the configurations. Below are some functions for checking."
   ]
  },
  {
   "cell_type": "code",
   "execution_count": 854,
   "id": "assigned-metadata",
   "metadata": {},
   "outputs": [],
   "source": [
    "# pin weights\n",
    "pins = []\n",
    "for i in range(0,10):\n",
    "    pins.append(2**i)\n",
    "pins = np.array(pins_0)\n",
    "\n",
    "def pin_decode(c):\n",
    "    if c>1023:\n",
    "        c-=1024\n",
    "        \n",
    "    x = cp.Variable(pins.shape[0],boolean=True)\n",
    "    obj = cp.Minimize(0)\n",
    "    constraints = [pins@x>=c,\n",
    "                   pins@x<=c]\n",
    "    prob = cp.Problem(obj, constraints)\n",
    "    prob.solve()\n",
    "    return x.value\n",
    "\n",
    "# configuration\n",
    "# 6 7 8 9\n",
    "#  3 4 5 \n",
    "#   1 2\n",
    "#    0\n",
    "def pin_encode(p):\n",
    "    x = np.zeros(10)\n",
    "    for i in p:\n",
    "        x[i] = 1\n",
    "    return int(np.sum(x*pins))\n",
    "\n",
    "def split_to_spare(p):\n",
    "    c = pin_encode(p)\n",
    "    fix = 1024\n",
    "    splits = 0\n",
    "    convert = 0\n",
    "    j=1\n",
    "    while(j<=19):\n",
    "        roll1 = df2[j]\n",
    "        roll2 = df2[j+1]\n",
    "        for i in range(roll1.shape[0]):\n",
    "            a = roll1[i]\n",
    "            if (a != \" ''\") and (a != \" 'X'\"):\n",
    "                if (int(a) in [c,c+fix]):\n",
    "                    splits += 1\n",
    "                    if (roll2[i] == \" '/'\"):\n",
    "                        convert += 1\n",
    "        j+=2\n",
    "        \n",
    "    return convert/splits"
   ]
  },
  {
   "cell_type": "markdown",
   "id": "alternative-brave",
   "metadata": {},
   "source": [
    "And here are some examples."
   ]
  },
  {
   "cell_type": "markdown",
   "id": "hydraulic-activity",
   "metadata": {},
   "source": [
    "![6pinconfig](6pinconfig.png)"
   ]
  },
  {
   "cell_type": "code",
   "execution_count": 714,
   "id": "functional-nothing",
   "metadata": {},
   "outputs": [
    {
     "name": "stdout",
     "output_type": "stream",
     "text": [
      "96.0%\n"
     ]
    }
   ],
   "source": [
    "print(\"{:.1f}%\".format(100*split_to_spare([6])))"
   ]
  },
  {
   "cell_type": "markdown",
   "id": "under-favor",
   "metadata": {},
   "source": [
    "![7-10pinconfig](7-10pinconfig.png)"
   ]
  },
  {
   "cell_type": "code",
   "execution_count": 715,
   "id": "charitable-venture",
   "metadata": {},
   "outputs": [
    {
     "name": "stdout",
     "output_type": "stream",
     "text": [
      "0.7%\n"
     ]
    }
   ],
   "source": [
    "print(\"{:.1f}%\".format(100*split_to_spare([6,9])))"
   ]
  },
  {
   "cell_type": "markdown",
   "id": "noble-petite",
   "metadata": {},
   "source": [
    "![rgreekchurch](rgreekchurch.png)"
   ]
  },
  {
   "cell_type": "code",
   "execution_count": 716,
   "id": "unexpected-literature",
   "metadata": {},
   "outputs": [
    {
     "name": "stdout",
     "output_type": "stream",
     "text": [
      "0.3%\n"
     ]
    }
   ],
   "source": [
    "print(\"{:.1f}%\".format(100*split_to_spare([3,5,6,8,9])))"
   ]
  },
  {
   "cell_type": "markdown",
   "id": "settled-small",
   "metadata": {},
   "source": [
    "![lgreekchurck](lgreekchurch.png)"
   ]
  },
  {
   "cell_type": "code",
   "execution_count": 717,
   "id": "insured-blowing",
   "metadata": {},
   "outputs": [
    {
     "name": "stdout",
     "output_type": "stream",
     "text": [
      "1.4%\n"
     ]
    }
   ],
   "source": [
    "print(\"{:.1f}%\".format(100*split_to_spare([3,5,6,7,9])))"
   ]
  },
  {
   "cell_type": "markdown",
   "id": "compatible-decline",
   "metadata": {},
   "source": [
    "The last 3 configurations included are the infamous 7-10 split and two configurations of the \"greek church\" (right greek church and left greek church, in order of appereance). The percentages generated are a bit off but are close enough I feel.\n",
    "<br><br>What is interesting is that the greek church in which 3 pins are clustered on the right is ostensibly a more difficult configuration to convert to a spare than the 7-10 split. Ben Blatt notes that the right greek church was converted to spares the least of all configurations. However, some of the comments on the article posted by avid bowling fans note that professional bowlers may simply be aiming for the cluster of 3 pins as opposed to going for a spare because it is a safer option.<br><br>Another interesting note is that the right and left greek churches have different spare conversion percentages. The comments remark that this may be due to the difference in right and left handed bowlers. Assuming there are more right handed bowlers, the left greek church is easier to convert to a spare for righties."
   ]
  },
  {
   "cell_type": "markdown",
   "id": "imported-welsh",
   "metadata": {},
   "source": [
    "#### Score Distribution\n",
    "The below linked paper by Douglas VanDerwerken and Franklin Kenter titled \"A generative Markov model for bowling scores\" (2018) used the same data I acquired from Ben Blatt.<br>\n",
    "https://www.degruyter.com/document/doi/10.1515/jqas-2017-0081/html<br><br>\n",
    "Below, I attempt to recreate the histogram of scores included in the above paper."
   ]
  },
  {
   "cell_type": "code",
   "execution_count": 720,
   "id": "convertible-humidity",
   "metadata": {},
   "outputs": [],
   "source": [
    "def game_to_score(game):\n",
    "    score = np.array([-1]*10)\n",
    "    if (game[1] == \" '/'\" or game[1] == \" 'X'\"):\n",
    "        score[0] = 10\n",
    "    elif (game[1] != \" ''\"):\n",
    "        score[0] = np.sum(1-pin_decode(int(game[1])))\n",
    "    elif (game[0] != \" ''\"):\n",
    "        score[0] = np.sum(1-pin_decode(int(game[0])))\n",
    "    else:\n",
    "        score[0] = 0\n",
    "\n",
    "    # frames 1 through 9\n",
    "    for i in list(np.arange(3,len(game[2:-1]),2)):\n",
    "        \n",
    "        j = int((i-1)/2)\n",
    "        #print(j)\n",
    "        if (game[i] == \" '/'\" or game[i] == \" 'X'\"):\n",
    "            score[j] = 10\n",
    "        else:\n",
    "            if (game[i] == \" ''\"):\n",
    "                if (game[i-1] == \" ''\"):\n",
    "                    score[j] = 0\n",
    "                else:\n",
    "                    score[j] = np.sum(1-pin_decode(int(game[i-1])))\n",
    "            else:\n",
    "                score[j] = np.sum(1-pin_decode(int(game[i])))\n",
    "\n",
    "        # last bowl was a strike or spare\n",
    "        if (score[j-1] == 10):\n",
    "            score[j-1] += score[j]\n",
    "\n",
    "        # bowl before last was a strike\n",
    "        if (j>=2 and game[i-2] == \" 'X'\"):\n",
    "            score[j-2] += score[j]\n",
    "#         print(game[i-2])\n",
    "#         print(score)\n",
    "\n",
    "    # last frame\n",
    "    #print(\"last frame\")\n",
    "    # 1st bowl strike\n",
    "    if (game[18] == \" 'X'\"):\n",
    "        score[9] = 10\n",
    "        # 2nd bowl strike\n",
    "        if (game[19] == \" 'X'\"):\n",
    "            score[9] += 10\n",
    "            # 3nd bowl strike\n",
    "            if (game[20] == \" 'X'\"):\n",
    "                score[9] += 10\n",
    "            elif (game[20] != \" ''\"):\n",
    "                score[9] += np.sum(1-pin_decode(int(game[20])))\n",
    "        elif (game[19] == \" ''\"):\n",
    "            if (game[20] == \" 'X'\"):\n",
    "                score[9] += 10\n",
    "            elif (game[20] != \" ''\"):\n",
    "                score[9] += np.sum(1-pin_decode(int(game[20])))\n",
    "                \n",
    "        elif (game[20] == \" '/'\"):\n",
    "            score[9] += 10\n",
    "        elif (game[19] != \" ''\"):\n",
    "            if (game[20] != \" ''\"):\n",
    "                score[9] += np.sum(1-pin_decode(int(game[20])))\n",
    "        elif (game[20] == \" ''\"):\n",
    "            if (game[19] != \" ''\"):\n",
    "                score[9] += np.sum(1-pin_decode(int(game[19])))\n",
    "    elif (game[19] == \" '/'\"):\n",
    "        score[9] = 10\n",
    "        if (game[20] == \" 'X'\"):\n",
    "            score[9] += 10\n",
    "        elif (game[20] != \" ''\"):\n",
    "            score[9] += np.sum(1-pin_decode(int(game[20])))\n",
    "    elif (game[18] == \" ''\"):\n",
    "        if (game[19] != \" ''\"):\n",
    "            score[9] = np.sum(1-pin_decode(int(game[19])))\n",
    "    elif (game[18] != \" ''\"):\n",
    "        if (game[19] == \" ''\"):\n",
    "            score[9] = np.sum(1-pin_decode(int(game[18])))\n",
    "    #print(score)\n",
    "    # previous bowls scoring\n",
    "    \n",
    "    # first bowl score\n",
    "    if (game[18] == \" 'X'\"):\n",
    "        first_bowl = 10\n",
    "    elif (game[18] != \" ''\"):\n",
    "        first_bowl = np.sum(1-pin_decode(int(game[18])))\n",
    "    else:\n",
    "        first_bowl = 0\n",
    "    \n",
    "    # second bowl score\n",
    "    if (game[19] == \" 'X'\"):\n",
    "        second_bowl = 10\n",
    "    elif (game[19] == \" '/'\"):\n",
    "        second_bowl = 10 - first_bowl\n",
    "    elif (game[19] != \" ''\"):\n",
    "        second_bowl = np.sum(1-pin_decode(int(game[19])))\n",
    "    else:\n",
    "        second_bowl = 0\n",
    "        \n",
    "    # 9th bowl was a spare\n",
    "    if (game[17] == \" '/'\"):\n",
    "        score[8] += first_bowl\n",
    "    if (game[17] == \" 'X'\"):\n",
    "        score[8] += first_bowl + second_bowl\n",
    "    \n",
    "    # 8th bowl was a strike\n",
    "    if (game[15] == \" 'X'\"):\n",
    "        score[7] += first_bowl\n",
    "\n",
    "    return(np.sum(score))"
   ]
  },
  {
   "cell_type": "code",
   "execution_count": 721,
   "id": "announced-thickness",
   "metadata": {
    "scrolled": true
   },
   "outputs": [],
   "source": [
    "scores = []\n",
    "for i in range(df3.shape[0]):\n",
    "    game = list(df3.iloc[i])[1:]\n",
    "    scores.append(game_to_score(game))"
   ]
  },
  {
   "cell_type": "code",
   "execution_count": 722,
   "id": "hourly-liechtenstein",
   "metadata": {},
   "outputs": [
    {
     "data": {
      "image/png": "[encoded data removed]",
      "text/plain": [
       "<Figure size 864x432 with 1 Axes>"
      ]
     },
     "metadata": {
      "needs_background": "light"
     },
     "output_type": "display_data"
    },
    {
     "name": "stdout",
     "output_type": "stream",
     "text": [
      "max:  300\n",
      "min:  29\n",
      "mean: 241\n",
      "mode: 259\n"
     ]
    }
   ],
   "source": [
    "plt.figure(figsize=(12,6))\n",
    "plt.hist(scores,bins='auto')\n",
    "plt.title(\"Bowling Score Distribution\")\n",
    "plt.xlim([100,305])\n",
    "plt.show()\n",
    "print(\"max: \",max(scores))\n",
    "print(\"min: \",min(scores))\n",
    "print(\"mean:\",stats.mean(scores))\n",
    "print(\"mode:\",stats.mode(scores))"
   ]
  },
  {
   "cell_type": "markdown",
   "id": "japanese-bridal",
   "metadata": {},
   "source": [
    "Pictured above is the histogram I generated from the data and below is the histogram included in the previously linked paper."
   ]
  },
  {
   "cell_type": "markdown",
   "id": "local-mining",
   "metadata": {},
   "source": [
    "![scoredist](scoredist.jpeg)"
   ]
  },
  {
   "cell_type": "markdown",
   "id": "eastern-drawing",
   "metadata": {},
   "source": [
    "As described by VanDerwerken and Kenter, the distribution of bowling scores is uniquely mulitmodal. Past scores of 200, we see peaks in frequency at scores that are multiples of 10, increasing in size relative to neighboring scores (this can be more closely observed in the scores printed below). This distribution may be attributable to both bowling's unique scoring system and \"the fact that elite bowlers typically knock down 9 or 10 pins per frame instead of, say, 0 or 1\" (VanDerwerken and Kenter 2018)."
   ]
  },
  {
   "cell_type": "code",
   "execution_count": 613,
   "id": "current-stevens",
   "metadata": {
    "scrolled": true
   },
   "outputs": [
    {
     "name": "stdout",
     "output_type": "stream",
     "text": [
      "(29, 1)\n",
      "(106, 2)\n",
      "(107, 1)\n",
      "(111, 1)\n",
      "(114, 1)\n",
      "(115, 1)\n",
      "(128, 1)\n",
      "(130, 1)\n",
      "(133, 1)\n",
      "(134, 1)\n",
      "(135, 1)\n",
      "(137, 3)\n",
      "(138, 3)\n",
      "(139, 2)\n",
      "(140, 2)\n",
      "(141, 6)\n",
      "(142, 5)\n",
      "(143, 3)\n",
      "(144, 4)\n",
      "(145, 4)\n",
      "(146, 3)\n",
      "(147, 4)\n",
      "(148, 6)\n",
      "(149, 6)\n",
      "(150, 4)\n",
      "(151, 9)\n",
      "(152, 14)\n",
      "(153, 4)\n",
      "(154, 4)\n",
      "(155, 10)\n",
      "(156, 9)\n",
      "(157, 11)\n",
      "(158, 12)\n",
      "(159, 25)\n",
      "(160, 16)\n",
      "(161, 17)\n",
      "(162, 20)\n",
      "(163, 20)\n",
      "(164, 24)\n",
      "(165, 17)\n",
      "(166, 28)\n",
      "(167, 26)\n",
      "(168, 23)\n",
      "(169, 28)\n",
      "(170, 32)\n",
      "(171, 41)\n",
      "(172, 43)\n",
      "(173, 44)\n",
      "(174, 46)\n",
      "(175, 47)\n",
      "(176, 33)\n",
      "(177, 44)\n",
      "(178, 58)\n",
      "(179, 61)\n",
      "(180, 69)\n",
      "(181, 88)\n",
      "(182, 76)\n",
      "(183, 88)\n",
      "(184, 82)\n",
      "(185, 100)\n",
      "(186, 82)\n",
      "(187, 73)\n",
      "(188, 75)\n",
      "(189, 113)\n",
      "(190, 111)\n",
      "(191, 140)\n",
      "(192, 155)\n",
      "(193, 149)\n",
      "(194, 168)\n",
      "(195, 153)\n",
      "(196, 165)\n",
      "(197, 131)\n",
      "(198, 149)\n",
      "(199, 120)\n",
      "(200, 158)\n",
      "(201, 195)\n",
      "(202, 218)\n",
      "(203, 245)\n",
      "(204, 286)\n",
      "(205, 311)\n",
      "(206, 283)\n",
      "(207, 247)\n",
      "(208, 219)\n",
      "(209, 162)\n",
      "(210, 204)\n",
      "(211, 225)\n",
      "(212, 300)\n",
      "(213, 341)\n",
      "(214, 330)\n",
      "(215, 437)\n",
      "(216, 442)\n",
      "(217, 452)\n",
      "(218, 344)\n",
      "(219, 280)\n",
      "(220, 312)\n",
      "(221, 275)\n",
      "(222, 336)\n",
      "(223, 435)\n",
      "(224, 488)\n",
      "(225, 551)\n",
      "(226, 605)\n",
      "(227, 679)\n",
      "(228, 534)\n",
      "(229, 424)\n",
      "(230, 492)\n",
      "(231, 248)\n",
      "(232, 314)\n",
      "(233, 456)\n",
      "(234, 564)\n",
      "(235, 590)\n",
      "(236, 775)\n",
      "(237, 842)\n",
      "(238, 689)\n",
      "(239, 725)\n",
      "(240, 756)\n",
      "(241, 212)\n",
      "(242, 243)\n",
      "(243, 363)\n",
      "(244, 501)\n",
      "(245, 577)\n",
      "(246, 829)\n",
      "(247, 906)\n",
      "(248, 927)\n",
      "(249, 988)\n",
      "(250, 986)\n",
      "(251, 121)\n",
      "(252, 151)\n",
      "(253, 244)\n",
      "(254, 383)\n",
      "(255, 371)\n",
      "(256, 729)\n",
      "(257, 898)\n",
      "(258, 946)\n",
      "(259, 1243)\n",
      "(260, 1161)\n",
      "(261, 34)\n",
      "(262, 49)\n",
      "(263, 82)\n",
      "(264, 205)\n",
      "(265, 172)\n",
      "(266, 444)\n",
      "(267, 616)\n",
      "(268, 790)\n",
      "(269, 1196)\n",
      "(270, 1181)\n",
      "(271, 10)\n",
      "(272, 15)\n",
      "(273, 44)\n",
      "(274, 70)\n",
      "(275, 73)\n",
      "(276, 178)\n",
      "(277, 318)\n",
      "(278, 416)\n",
      "(279, 940)\n",
      "(280, 1091)\n",
      "(281, 1)\n",
      "(282, 1)\n",
      "(283, 2)\n",
      "(284, 3)\n",
      "(285, 15)\n",
      "(286, 42)\n",
      "(287, 69)\n",
      "(288, 118)\n",
      "(289, 386)\n",
      "(290, 715)\n",
      "(295, 2)\n",
      "(296, 9)\n",
      "(297, 8)\n",
      "(298, 17)\n",
      "(299, 82)\n",
      "(300, 263)\n"
     ]
    }
   ],
   "source": [
    "score_freq = Counter(scores)\n",
    "for i in sorted(score_freq.items()):\n",
    "    print(i)"
   ]
  },
  {
   "cell_type": "markdown",
   "id": "italian-evolution",
   "metadata": {},
   "source": [
    "### Score Distributions of Individual Players\n",
    "Because this dataset has tagged each game with the player who bowled them, we can look at score distributions for individual players. Here a couple examples from especially active players."
   ]
  },
  {
   "cell_type": "code",
   "execution_count": 676,
   "id": "numeric-hamburg",
   "metadata": {},
   "outputs": [
    {
     "data": {
      "text/plain": [
       "Chris Barnes               1177\n",
       "Walter Ray Williams Jr.    1125\n",
       "Tommy Jones                1051\n",
       "Patrick Allen               967\n",
       "Brad Angelo                 942\n",
       "                           ... \n",
       "Frankie Calca                 1\n",
       "Johnathan Bower               1\n",
       "Kenneth Kempf                 1\n",
       "Brad Miller                   1\n",
       "Kimmo Lehtonen                1\n",
       "Name: 0, Length: 434, dtype: int64"
      ]
     },
     "execution_count": 676,
     "metadata": {},
     "output_type": "execute_result"
    }
   ],
   "source": [
    "df3[0].value_counts()"
   ]
  },
  {
   "cell_type": "code",
   "execution_count": 732,
   "id": "educated-allah",
   "metadata": {},
   "outputs": [
    {
     "data": {
      "image/png": "[encoded data removed]",
      "text/plain": [
       "<Figure size 864x432 with 1 Axes>"
      ]
     },
     "metadata": {
      "needs_background": "light"
     },
     "output_type": "display_data"
    },
    {
     "name": "stdout",
     "output_type": "stream",
     "text": [
      "max:  300\n",
      "min:  143\n",
      "mean: 247\n",
      "mode: 259\n"
     ]
    }
   ],
   "source": [
    "chris = list(df3[df3[0] == 'Chris Barnes'].index)\n",
    "\n",
    "scores = []\n",
    "for i in chris:\n",
    "    game = list(df3.iloc[i])[1:]\n",
    "    scores.append(game_to_score(game))\n",
    "\n",
    "plt.figure(figsize=(12,6))\n",
    "plt.hist(scores,bins='auto')\n",
    "plt.title(\"Chris Barnes Bowling Score Distribution\")\n",
    "plt.xlim([100,305])\n",
    "plt.show()\n",
    "print(\"max: \",max(scores))\n",
    "print(\"min: \",min(scores))\n",
    "print(\"mean:\",stats.mean(scores))\n",
    "print(\"mode:\",stats.mode(scores))"
   ]
  },
  {
   "cell_type": "code",
   "execution_count": 733,
   "id": "designing-billion",
   "metadata": {},
   "outputs": [
    {
     "data": {
      "image/png": "[encoded data removed]",
      "text/plain": [
       "<Figure size 864x432 with 1 Axes>"
      ]
     },
     "metadata": {
      "needs_background": "light"
     },
     "output_type": "display_data"
    },
    {
     "name": "stdout",
     "output_type": "stream",
     "text": [
      "max:  300\n",
      "min:  157\n",
      "mean: 251\n",
      "mode: 280\n"
     ]
    }
   ],
   "source": [
    "walter = list(df3[df3[0] == 'Walter Ray Williams Jr.'].index)\n",
    "\n",
    "scores = []\n",
    "for i in walter:\n",
    "    game = list(df3.iloc[i])[1:]\n",
    "    scores.append(game_to_score(game))\n",
    "\n",
    "plt.figure(figsize=(12,6))\n",
    "plt.hist(scores,bins='auto')\n",
    "plt.title(\"Walter Ray Williams Jr. Bowling Score Distribution\")\n",
    "plt.xlim([100,305])\n",
    "plt.show()\n",
    "print(\"max: \",max(scores))\n",
    "print(\"min: \",min(scores))\n",
    "print(\"mean:\",stats.mean(scores))\n",
    "print(\"mode:\",stats.mode(scores))"
   ]
  },
  {
   "cell_type": "code",
   "execution_count": 735,
   "id": "judicial-auction",
   "metadata": {},
   "outputs": [
    {
     "data": {
      "image/png": "[encoded data removed]",
      "text/plain": [
       "<Figure size 864x432 with 1 Axes>"
      ]
     },
     "metadata": {
      "needs_background": "light"
     },
     "output_type": "display_data"
    },
    {
     "name": "stdout",
     "output_type": "stream",
     "text": [
      "max:  300\n",
      "min:  107\n",
      "mean: 241\n"
     ]
    }
   ],
   "source": [
    "tommy = list(df3[df3[0] == 'Tommy Jones'].index)\n",
    "\n",
    "scores = []\n",
    "for i in tommy:\n",
    "    game = list(df3.iloc[i])[1:]\n",
    "    scores.append(game_to_score(game))\n",
    "\n",
    "plt.figure(figsize=(12,6))\n",
    "plt.hist(scores,bins='auto')\n",
    "plt.title(\"Tommy Jones Bowling Score Distribution\")\n",
    "plt.xlim([100,305])\n",
    "plt.show()\n",
    "print(\"max: \",max(scores))\n",
    "print(\"min: \",min(scores))\n",
    "print(\"mean:\",stats.mean(scores))\n",
    "#print(\"mode:\",stats.mode(scores)) # no unique mode"
   ]
  },
  {
   "cell_type": "markdown",
   "id": "ready-enterprise",
   "metadata": {},
   "source": [
    "### Simulating Bowling Games using Empirical Distribution\n",
    "In order to simulate a single game of bowling, I plan on deriving probabilities of every possible roll from the data."
   ]
  },
  {
   "cell_type": "code",
   "execution_count": 781,
   "id": "front-acting",
   "metadata": {},
   "outputs": [],
   "source": [
    "# first roll of frames\n",
    "i = 1\n",
    "frames = []\n",
    "while (i <= 17):\n",
    "    frames += list(df3[i])\n",
    "    i+=2\n",
    "\n",
    "# value counts\n",
    "first_bowls = Counter(frames)\n",
    "\n",
    "# normalization\n",
    "total = 0\n",
    "for v in first_bowls.values():\n",
    "    total += v\n",
    "\n",
    "normal_first_bowls = {k: v / total for k, v in first_bowls.items()}\n",
    "\n",
    "# percentage of strikes vs misses\n",
    "i = 1\n",
    "double_frames = []\n",
    "while (i <= 17):\n",
    "    double_frames += tuple(zip(list(df3[i]),list(df3[i+1])))\n",
    "    i+=2\n",
    "    \n",
    "strikes_percentage = Counter(double_frames)[(\" ''\", \" 'X'\")]/(\n",
    "    Counter(double_frames)[(\" ''\", \" ''\")]+Counter(double_frames)[(\" ''\", \" 'X'\")])\n",
    "\n",
    "normal_first_bowls[\" 'X'\"] = strikes_percentage*normal_first_bowls[\" ''\"]\n",
    "normal_first_bowls[\" ''\"] -= normal_first_bowls[\" 'X'\"]\n",
    "# print(\"unique pin configurations :\",len(first_bowls))\n",
    "\n",
    "# sort\n",
    "normal_first_bowls = {k: v for k, v in sorted(normal_first_bowls.items(), key=lambda item: item[1])}\n",
    "\n",
    "#normal_first_bowls"
   ]
  },
  {
   "cell_type": "code",
   "execution_count": 782,
   "id": "three-residence",
   "metadata": {},
   "outputs": [],
   "source": [
    "# convert normal_first_bowls to a CDF\n",
    "uniq_bowls = list(normal_first_bowls.keys())\n",
    "for i in range(1,len(uniq_bowls)):\n",
    "    normal_first_bowls[uniq_bowls[i]] += normal_first_bowls[uniq_bowls[i-1]]"
   ]
  },
  {
   "cell_type": "code",
   "execution_count": 812,
   "id": "authentic-september",
   "metadata": {},
   "outputs": [],
   "source": [
    "# invert normal_first_bowls\n",
    "inv = {}\n",
    "for k,v in normal_first_bowls.items():\n",
    "    inv[v] = k\n",
    "\n",
    "inv = SortedDict(inv)\n",
    "\n",
    "# Now for the actual simulation\n",
    "def sim_first_bowl():\n",
    "    x = np.random.uniform()\n",
    "    pos = inv.bisect(x)\n",
    "    return inv[inv.iloc[pos]]"
   ]
  },
  {
   "cell_type": "code",
   "execution_count": 913,
   "id": "killing-telling",
   "metadata": {},
   "outputs": [],
   "source": [
    "def emp_sim_bowling():\n",
    "    rolls = np.array([[-1]*3]*10)\n",
    "    score = np.array([-1]*10)\n",
    "\n",
    "    for i in range(9):\n",
    "        bowl = sim_first_bowl()\n",
    "\n",
    "        # STRIKE\n",
    "        if bowl == \" 'X'\":\n",
    "            rolls[i][0]=10\n",
    "            rolls[i][1]=0\n",
    "            #print(\"STRIKE\")\n",
    "        # Potential Spare\n",
    "        else:\n",
    "            pinconfig = list(np.where(pin_decode(int(bowl))==1))\n",
    "            if bowl == \" ''\":\n",
    "                pinconfig = list(np.where(np.ones(10)==1))\n",
    "            pins_left = len(list(pinconfig[0]))\n",
    "            rolls[i][0] = 10-pins_left\n",
    "            spare_prob = split_to_spare(pinconfig)\n",
    "            x = np.random.uniform()\n",
    "            if (x <= spare_prob):\n",
    "                rolls[i][1] = pins_left\n",
    "            elif (pins_left == 1):\n",
    "                rolls[i][1] = 0\n",
    "            else:\n",
    "                rolls[i][1] = np.random.randint(0,pins_left-1)\n",
    "            #print(list(pinconfig[0]))\n",
    "        rolls[i][2] = 0\n",
    "        score[i] = np.sum(rolls[i])\n",
    "\n",
    "    # Last frame\n",
    "    # First bowl\n",
    "    bowl = sim_first_bowl()\n",
    "    # Strike\n",
    "    if bowl == \" 'X'\":\n",
    "        rolls[9][0] = 10\n",
    "        bowl = sim_first_bowl()\n",
    "        # two more bowls Strike\n",
    "        if bowl == \" 'X'\":\n",
    "            rolls[9][1] = 10\n",
    "            # one more bowl\n",
    "            bowl = sim_first_bowl()\n",
    "            if bowl == \" 'X'\":\n",
    "                rolls[9][2] = 10\n",
    "            else:\n",
    "                pins_left = len(list(pinconfig[0]))\n",
    "                rolls[9][2] = 10-pins_left\n",
    "        # two more bowls spare\n",
    "        else:\n",
    "            pinconfig = list(np.where(pin_decode(int(bowl))==1))\n",
    "            if bowl == \" ''\":\n",
    "                pinconfig = list(np.where(np.ones(10)==1))\n",
    "            pins_left = len(list(pinconfig[0]))\n",
    "            rolls[i][0] = 10-pins_left\n",
    "            spare_prob = split_to_spare(pinconfig)\n",
    "            x = np.random.uniform()\n",
    "            if (x <= spare_prob):\n",
    "                rolls[i][1] = pins_left\n",
    "            elif (pins_left == 1):\n",
    "                rolls[i][1] = 0\n",
    "            else:\n",
    "                rolls[i][1] = np.random.randint(0,pins_left-1)\n",
    "            \n",
    "    # potential spare        \n",
    "    else:\n",
    "        pinconfig = list(np.where(pin_decode(int(bowl))==1))\n",
    "        if bowl == \" ''\":\n",
    "            pinconfig = list(np.where(np.ones(10)==1))\n",
    "        pins_left = len(list(pinconfig[0]))\n",
    "        rolls[i][0] = 10-pins_left\n",
    "        spare_prob = split_to_spare(pinconfig)\n",
    "        x = np.random.uniform()\n",
    "        if (x <= spare_prob):\n",
    "            rolls[i][1] = pins_left\n",
    "        elif (pins_left == 1):\n",
    "            rolls[i][1] = 0\n",
    "        else:\n",
    "            rolls[i][1] = np.random.randint(0,pins_left-1)\n",
    "    for i in range(len(rolls[9])):\n",
    "        if rolls[9][i] == -1:\n",
    "            rolls[9][i] = 0\n",
    "\n",
    "    score[9] = np.sum(rolls[9])\n",
    "        # 2 more rolls\n",
    "    return np.sum(compound_score(rolls,score))"
   ]
  },
  {
   "cell_type": "code",
   "execution_count": 915,
   "id": "other-contribution",
   "metadata": {},
   "outputs": [],
   "source": [
    "n_sim = 100\n",
    "scores = []\n",
    "for i in range(n_sim):\n",
    "    print(i)\n",
    "    score = emp_sim_bowling()\n",
    "    scores.append(score)"
   ]
  },
  {
   "cell_type": "code",
   "execution_count": 924,
   "id": "voluntary-audit",
   "metadata": {},
   "outputs": [
    {
     "data": {
      "image/png": "[encoded data removed]",
      "text/plain": [
       "<Figure size 864x432 with 1 Axes>"
      ]
     },
     "metadata": {
      "needs_background": "light"
     },
     "output_type": "display_data"
    },
    {
     "name": "stdout",
     "output_type": "stream",
     "text": [
      "max:  279\n",
      "min:  133\n",
      "mean: 201\n"
     ]
    }
   ],
   "source": [
    "plt.figure(figsize=(12,6))\n",
    "plt.hist(scores,bins=20)\n",
    "plt.title(\"Empirical Bowling Scores\")\n",
    "plt.xlim([0,305])\n",
    "plt.show()\n",
    "print(\"max: \",max(scores))\n",
    "print(\"min: \",min(scores))\n",
    "print(\"mean:\",stats.mean(scores))\n",
    "#print(\"mode:\",stats.mode(scores))"
   ]
  },
  {
   "cell_type": "markdown",
   "id": "overhead-aircraft",
   "metadata": {},
   "source": [
    "Shown above is the a histogram of 100 bowling scores simulated form the empirical distribution. By simulating each bowl individually, I was able to recreate the empirical distribution to a degree. The simulated distribution above does appear to be somewhat multimodal but lacks the long tail towards the lower end of scores. I am unsure of how best to improve the simulation, but certainly a larger dataset to draw from would help enrich the simulation."
   ]
  }
 ],
 "metadata": {
  "kernelspec": {
   "display_name": "Python 3",
   "language": "python",
   "name": "python3"
  },
  "language_info": {
   "codemirror_mode": {
    "name": "ipython",
    "version": 3
   },
   "file_extension": ".py",
   "mimetype": "text/x-python",
   "name": "python",
   "nbconvert_exporter": "python",
   "pygments_lexer": "ipython3",
   "version": "3.7.9"
  }
 },
 "nbformat": 4,
 "nbformat_minor": 5
}
